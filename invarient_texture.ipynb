{
 "cells": [
  {
   "cell_type": "code",
   "execution_count": 117,
   "id": "69924547",
   "metadata": {},
   "outputs": [],
   "source": [
    "import SimpleITK as sitk\n",
    "import numpy as np\n",
    "import matplotlib.pyplot as plt\n",
    "from pathlib import Path\n",
    "import os\n",
    "import math\n",
    "import imageio.v2 as imageio\n",
    "import SimpleITK as sitk\n",
    "from radiomics import featureextractor\n",
    "import pandas as pd\n",
    "import re\n",
    "import numpy as np\n",
    "from radiomics import glszm\n",
    "from io import BytesIO\n",
    "from numpy import ones, kron, mean, eye, hstack, dot, tile\n",
    "from numpy.linalg import pinv\n",
    "from matplotlib.image import imread"
   ]
  },
  {
   "cell_type": "code",
   "execution_count": 119,
   "id": "44eebceb",
   "metadata": {},
   "outputs": [],
   "source": [
    "# change path\n",
    "save_path = '/projects/YG'\n",
    "\n",
    "os.getcwd()\n",
    "os.chdir(save_path)"
   ]
  },
  {
   "cell_type": "code",
   "execution_count": 120,
   "id": "e0bf4d58",
   "metadata": {},
   "outputs": [],
   "source": [
    "invariant_feature_folder = os.path.join(save_path, \"Invariant_Features\")\n",
    "os.makedirs(invariant_feature_folder, exist_ok=True) "
   ]
  },
  {
   "cell_type": "markdown",
   "id": "cd51508a",
   "metadata": {},
   "source": [
    "# inphase & outphase "
   ]
  },
  {
   "cell_type": "code",
   "execution_count": 22,
   "id": "5f3dc329",
   "metadata": {},
   "outputs": [],
   "source": [
    "import os\n",
    "import numpy as np\n",
    "import pandas as pd\n",
    "import SimpleITK as sitk\n",
    "from radiomics import featureextractor\n",
    "\n",
    "extractor = featureextractor.RadiomicsFeatureExtractor()\n",
    "\n",
    "def process_phase_images(save_path, phase_type='inphase'):\n",
    "    Ng_values = [64, 96, 128, 160, 192, 224, 256]\n",
    "    radiomic_features_by_ng = {}\n",
    "    for Ng in Ng_values:\n",
    "        print(f\"Processing {phase_type} images at Ng = {Ng}...\")\n",
    "        radiomic_features = []\n",
    "\n",
    "        for patient_folder in os.listdir(save_path):\n",
    "            patient_path = os.path.join(save_path, patient_folder)\n",
    "            if not os.path.isdir(patient_path):\n",
    "                continue  \n",
    "            npz_files = [f for f in os.listdir(patient_path) if f.endswith(\"_data.npz\")]\n",
    "            if not npz_files:\n",
    "                print(f\"Skipping {patient_folder}: No NPZ data file found.\")\n",
    "                continue\n",
    "            npz_file_path = os.path.join(patient_path, npz_files[0])\n",
    "            data = np.load(npz_file_path)\n",
    "            image = data[phase_type] \n",
    "            segmentation_image = data[\"segmentation\"]\n",
    "            quantized_image = np.round((image / np.max(image)) * (Ng - 1)).astype(np.uint8)\n",
    "            quantized_npz_path = os.path.join(patient_path, f\"{patient_folder}_quantized_{phase_type}_Ng_{Ng}.npz\")\n",
    "            np.savez(quantized_npz_path, quantized_image=quantized_image, segmentation=segmentation_image)\n",
    "            image_sitk = sitk.GetImageFromArray(quantized_image)\n",
    "            segmentation_sitk = sitk.GetImageFromArray((segmentation_image > 0).astype(np.uint8))\n",
    "\n",
    "            result = extractor.execute(image_sitk, segmentation_sitk)\n",
    "\n",
    "            filtered_result = {key: value for key, value in result.items() if \"diagnostics\" not in key}\n",
    "            radiomic_features.append({\"PatientID\": patient_folder, **filtered_result})\n",
    "\n",
    "        radiomic_features_df = pd.DataFrame(radiomic_features)\n",
    "\n",
    "        radiomic_features_df = radiomic_features_df[\n",
    "            radiomic_features_df.columns.drop(list(radiomic_features_df.filter(regex='firstorder')))\n",
    "        ]\n",
    "        radiomic_features_df = radiomic_features_df[\n",
    "            radiomic_features_df.columns.drop(list(radiomic_features_df.filter(regex='diagnostics')))\n",
    "        ]\n",
    "        radiomic_features_df = radiomic_features_df.sort_index()\n",
    "\n",
    "        radiomic_features_by_ng[Ng] = radiomic_features_df\n",
    "\n",
    "    consolidated_npz_path = os.path.join(save_path, f\"radiomic_features_by_ng_{phase_type}.npz\")\n",
    "    np.savez(consolidated_npz_path, **{f\"Ng_{Ng}\": df.to_dict(orient='list') for Ng, df in radiomic_features_by_ng.items()})\n",
    "    print(f\"Saved consolidated radiomic features for {phase_type} to {consolidated_npz_path}\")"
   ]
  },
  {
   "cell_type": "code",
   "execution_count": null,
   "id": "12ebb9f0",
   "metadata": {},
   "outputs": [],
   "source": [
    "inphase_data = np.load(f\"{save_path}/radiomic_features_by_ng_inphase.npz\", allow_pickle=True)\n",
    "ng_x_inphase_features = pd.DataFrame(inphase_data[\"Ng_128\"].item())\n",
    "ng_x_inphase_features"
   ]
  },
  {
   "cell_type": "code",
   "execution_count": null,
   "id": "cf718758",
   "metadata": {},
   "outputs": [],
   "source": [
    "invariant_feature_folder = os.path.join(save_path, \"Invariant_Features\")\n",
    "consolidated_excel_path = os.path.join(invariant_feature_folder, \"outphase_Ng_64-256.xlsx\")\n",
    "\n",
    "npz_path = os.path.join(save_path, \"radiomic_features_by_ng_outphase.npz\")\n",
    "radiomic_features_data = np.load(npz_path, allow_pickle=True)\n",
    "\n",
    "excel_writer = pd.ExcelWriter(consolidated_excel_path, engine=\"xlsxwriter\")\n",
    "for Ng_key in radiomic_features_data.files:\n",
    "    features_dict = radiomic_features_data[Ng_key].item() \n",
    "    features_df = pd.DataFrame(features_dict)\n",
    "\n",
    "    if not features_df.empty:\n",
    "        features_df.to_excel(excel_writer, sheet_name=Ng_key, index=False)\n",
    "    else:\n",
    "        print(f\"Skipping {Ng_key} because the DataFrame is empty.\")\n",
    "\n",
    "excel_writer.close()"
   ]
  },
  {
   "cell_type": "code",
   "execution_count": null,
   "id": "2d1f19c8",
   "metadata": {},
   "outputs": [],
   "source": [
    "consolidated_excel_path = os.path.join(\"/projects/YG\", \"inphase_Ng_64-256_75features.xlsx\")\n",
    "sheet_name = \"Ng_128\" \n",
    "df = pd.read_excel(consolidated_excel_path, sheet_name=sheet_name)\n",
    "df"
   ]
  },
  {
   "cell_type": "markdown",
   "id": "aa290f4b",
   "metadata": {},
   "source": [
    "## feature vs. Ng"
   ]
  },
  {
   "cell_type": "code",
   "execution_count": 43,
   "id": "6958faaa",
   "metadata": {},
   "outputs": [],
   "source": [
    "# phase_type = 'outphase'\n",
    "phase_type = 'inphase'\n",
    "diff_Ngs_file = pd.ExcelFile(f'./Invariant_Features/{phase_type}_Ng_64-256_75features.xlsx')\n",
    "excel_writer2 = pd.ExcelWriter(f'./Invariant_Features/{phase_type}_feature_vs_Ng.xlsx', engine='xlsxwriter')\n",
    "\n",
    "first_sheet_name = diff_Ngs_file.sheet_names[0] \n",
    "first_df = diff_Ngs_file.parse(first_sheet_name)\n",
    "num_cols = len(first_df.columns)\n",
    "\n",
    "for col_index in range(1,num_cols):\n",
    "    column_data = []\n",
    "\n",
    "    for sheet_name in diff_Ngs_file.sheet_names:\n",
    "        df = diff_Ngs_file.parse(sheet_name)\n",
    "        column = df.iloc[:, col_index]\n",
    "        column_data.append(column)\n",
    "\n",
    "    column_data_df = pd.DataFrame(column_data).T\n",
    "    column_headers = [64, 96, 128, 160, 192, 224, 256]\n",
    "    column_data_df.columns = column_headers\n",
    "\n",
    "    name = \"_\".join(first_df.columns[col_index].split(\"_\")[1:]) \n",
    "    column_data_df.to_excel(excel_writer2, sheet_name=name[:31], index=False)\n",
    "\n",
    "excel_writer2.close()"
   ]
  },
  {
   "cell_type": "code",
   "execution_count": null,
   "id": "d0034848",
   "metadata": {},
   "outputs": [],
   "source": [
    "phase_type = 'inphase'\n",
    "\n",
    "excel_path = os.path.join(invariant_feature_folder, f\"{phase_type}_feature_vs_Ng.xlsx\")\n",
    "\n",
    "excel_file = pd.ExcelFile(excel_path)\n",
    "sheet_names = excel_file.sheet_names\n",
    "chosen_sheet = \"glcm_Autocorrelation\"\n",
    "print(f\"Loading data from sheet: {chosen_sheet}\")\n",
    "df = excel_file.parse(sheet_name=chosen_sheet)\n",
    "df"
   ]
  },
  {
   "cell_type": "code",
   "execution_count": null,
   "id": "240b5c96",
   "metadata": {},
   "outputs": [],
   "source": [
    "consolidated_excel_path = os.path.join(\"/projects/YG\", \"inphase_Ng_64-256_75features.xlsx\")\n",
    "sheet_name = \"Ng_128\" \n",
    "df = pd.read_excel(consolidated_excel_path, sheet_name=sheet_name)\n",
    "\n",
    "print(f\"Loaded data from sheet: {sheet_name}\")\n",
    "df"
   ]
  },
  {
   "cell_type": "markdown",
   "id": "4e4ec2b1",
   "metadata": {},
   "source": [
    "## Find invariant feature"
   ]
  },
  {
   "cell_type": "code",
   "execution_count": 13,
   "id": "0a704aa2",
   "metadata": {},
   "outputs": [],
   "source": [
    "def icc(Y, icc_type='ICC(3,1)'):\n",
    "\n",
    "    [n, k] = Y.shape \n",
    "    dfc = k - 1\n",
    "    dfe = (n - 1) * (k-1)\n",
    "    dfr = n - 1\n",
    "    mean_Y = np.mean(Y)\n",
    "    SST = ((Y - mean_Y) ** 2).sum()\n",
    "\n",
    "    x = np.kron(np.eye(k), np.ones((n, 1)))  # sessions\n",
    "    x0 = np.tile(np.eye(n), (k, 1))  # subjects\n",
    "    X = np.hstack([x, x0])\n",
    "\n",
    "    predicted_Y = np.dot(np.dot(np.dot(X, np.linalg.pinv(np.dot(X.T, X))),\n",
    "                                X.T), Y.flatten('F'))\n",
    "    residuals = Y.flatten('F') - predicted_Y\n",
    "    SSE = (residuals ** 2).sum()\n",
    "\n",
    "    MSE = SSE / dfe\n",
    "\n",
    "    SSC = ((np.mean(Y, 0) - mean_Y) ** 2).sum() * n\n",
    "    MSC = SSC / dfc  \n",
    "    SSR = SST - SSC - SSE\n",
    "    MSR = SSR / dfr\n",
    "\n",
    "    if icc_type == 'icc1':\n",
    "        NotImplementedError(\"This method isn't implemented yet.\")\n",
    "\n",
    "    elif icc_type == 'ICC(2,1)' or icc_type == 'ICC(2,k)':\n",
    "        if icc_type == 'ICC(2,k)':\n",
    "            k = 1\n",
    "        ICC = (MSR - MSE) / (MSR + (k-1) * MSE + k * (MSC - MSE) / n)\n",
    "\n",
    "    elif icc_type == 'ICC(3,1)' or icc_type == 'ICC(3,k)':\n",
    "        if icc_type == 'ICC(3,k)':\n",
    "            k = 1\n",
    "        ICC = (MSR - MSE) / (MSR + (k-1) * MSE)\n",
    "\n",
    "    return ICC"
   ]
  },
  {
   "cell_type": "code",
   "execution_count": null,
   "id": "f54213ac",
   "metadata": {},
   "outputs": [],
   "source": [
    "features_file = pd.ExcelFile('./Invariant_Features/outphase_feature_vs_Ng.xlsx')\n",
    "df_non_norm = features_file.parse('ngtdm_Strength')\n",
    "df_non_norm.shape"
   ]
  },
  {
   "cell_type": "code",
   "execution_count": null,
   "id": "46a757ed",
   "metadata": {},
   "outputs": [],
   "source": [
    "df_non_norm.columns"
   ]
  },
  {
   "cell_type": "code",
   "execution_count": null,
   "id": "9d201679",
   "metadata": {},
   "outputs": [],
   "source": [
    "df_norm = pd.DataFrame(columns=df_non_norm.columns)\n",
    "for col in df_non_norm.columns:\n",
    "    header_value = df_non_norm[col].name\n",
    "\n",
    "    df_norm[col] = df_non_norm[col]*(math.log(header_value)) \n",
    "df_norm.head()"
   ]
  },
  {
   "cell_type": "code",
   "execution_count": null,
   "id": "0057e1e0",
   "metadata": {},
   "outputs": [],
   "source": [
    "array = df_non_norm.values\n",
    "ICC_tmp = icc(array)\n",
    "ICC_tmp = round(ICC_tmp, 2)\n",
    "print(\"Non-normalization ICC:\", ICC_tmp)\n",
    "\n",
    "array2 = df_norm.values\n",
    "ICC_tmp2 = icc(array2)\n",
    "ICC_tmp2 = round(ICC_tmp2, 2)\n",
    "print(\"Normalization ICC:\", ICC_tmp2)"
   ]
  },
  {
   "cell_type": "markdown",
   "id": "7d2652d3",
   "metadata": {},
   "source": [
    "## generate final invariant features"
   ]
  },
  {
   "cell_type": "code",
   "execution_count": 126,
   "id": "60e68471",
   "metadata": {},
   "outputs": [],
   "source": [
    "# Normalization Function\n",
    "def normalize_column(column, Ng, formula_number):\n",
    "    column = float(column)\n",
    "    Ng = float(Ng)\n",
    "    if formula_number == 1:\n",
    "        return column * Ng\n",
    "    elif formula_number == 2:\n",
    "        return column / Ng\n",
    "    elif formula_number == 3:\n",
    "        return column / (Ng * Ng)\n",
    "    elif formula_number == 4:\n",
    "        return column / (Ng * Ng * Ng)\n",
    "    elif formula_number == 5:\n",
    "        return column / (math.log(Ng))\n",
    "    elif formula_number == 6:\n",
    "        return column * (math.log(Ng))\n",
    "    elif formula_number == 7:\n",
    "        return column / (math.log(Ng * Ng))\n",
    "    elif formula_number == 8:\n",
    "        return column * Ng * Ng\n",
    "    elif formula_number == 9:\n",
    "        return column * Ng * Ng * Ng\n",
    "    else:\n",
    "        raise ValueError(f\"Invalid formula number: {formula_number}\")\n",
    "\n",
    "\n",
    "def calculate_icc(data):\n",
    "    return icc(data.astype(float), icc_type=\"ICC(3,1)\")\n",
    "\n",
    "def find_best_normalization_method(df, ng_values):\n",
    "    best_method = None  \n",
    "    best_icc = -float(\"inf\")  \n",
    "    for formula_number in range(1, 10): \n",
    "        df_norm = df.copy()\n",
    "        \n",
    "        for column in ng_values:\n",
    "            df_norm[column] = df[column].astype(float).apply(lambda x: normalize_column(x, float(column), formula_number))\n",
    "        \n",
    "        array = df_norm.values.astype(float)\n",
    "\n",
    "        icc_value = calculate_icc(array)\n",
    "        if icc_value > best_icc:\n",
    "            best_icc = icc_value\n",
    "            best_method = formula_number  \n",
    "    return best_method\n",
    "\n",
    "def generate_best_methods_sheet(input_path, output_path):\n",
    "\n",
    "    features_file = pd.ExcelFile(input_path)\n",
    "    sheet_names = features_file.sheet_names  \n",
    "    best_methods = {}\n",
    "\n",
    "    for sheet_name in sheet_names:\n",
    "\n",
    "        df_feature = features_file.parse(sheet_name)\n",
    "        ng_values = df_feature.columns.tolist()\n",
    "        \n",
    "        best_method = find_best_normalization_method(df_feature, ng_values)\n",
    "        \n",
    "        best_methods[sheet_name] = best_method\n",
    "\n",
    "    best_methods_df = pd.DataFrame.from_dict(best_methods, orient=\"index\", columns=[\"Best Method\"])\n",
    "    best_methods_df.index.name = \"Feature\"\n",
    "\n",
    "    best_methods_df.to_excel(output_path, index=True)\n"
   ]
  },
  {
   "cell_type": "code",
   "execution_count": null,
   "id": "61cc7011",
   "metadata": {
    "scrolled": true
   },
   "outputs": [],
   "source": [
    "# inphase\n",
    "input_excel_path = './Invariant_Features/inphase_feature_vs_Ng.xlsx'\n",
    "output_excel_path = './Invariant_Features/Inphase_Best_Normalization_Methods.xlsx'\n",
    "generate_best_methods_sheet(input_excel_path, output_excel_path)"
   ]
  }
 ],
 "metadata": {
  "kernelspec": {
   "display_name": "Python 3 (ipykernel)",
   "language": "python",
   "name": "python3"
  },
  "language_info": {
   "codemirror_mode": {
    "name": "ipython",
    "version": 3
   },
   "file_extension": ".py",
   "mimetype": "text/x-python",
   "name": "python",
   "nbconvert_exporter": "python",
   "pygments_lexer": "ipython3",
   "version": "3.11.5"
  }
 },
 "nbformat": 4,
 "nbformat_minor": 5
}
