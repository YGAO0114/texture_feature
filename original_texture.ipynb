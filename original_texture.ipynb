{
 "cells": [
  {
   "cell_type": "code",
   "execution_count": 19,
   "id": "69924547",
   "metadata": {},
   "outputs": [],
   "source": [
    "import SimpleITK as sitk\n",
    "import numpy as np\n",
    "import matplotlib.pyplot as plt\n",
    "from pathlib import Path\n",
    "import os\n",
    "\n",
    "import imageio.v2 as imageio\n",
    "import SimpleITK as sitk\n",
    "from radiomics import featureextractor\n",
    "import pandas as pd\n",
    "import re\n",
    "import numpy as np\n",
    "from radiomics import glszm"
   ]
  },
  {
   "cell_type": "code",
   "execution_count": null,
   "id": "31f5fe20",
   "metadata": {},
   "outputs": [],
   "source": [
    "path = Path('/projects/YG')\n",
    "save_path = path.copy()\n",
    "subfolders = [folder for folder in path.iterdir() if folder.is_dir() and folder.name.startswith('C') and folder.name != 'CAPS25' ] # and folder.name != 'CAPS29']"
   ]
  },
  {
   "cell_type": "code",
   "execution_count": null,
   "id": "0760b2ec",
   "metadata": {},
   "outputs": [],
   "source": [
    "segmentation_files = []\n",
    "inphase_files = []\n",
    "outphase_files = []\n",
    "\n",
    "for folder in subfolders:\n",
    "    for custom_folder in folder.iterdir():\n",
    "        if custom_folder.is_dir():\n",
    "            segmentation_filenames = list(custom_folder.glob('Segment*.nrrd'))\n",
    "            segmentation_filenames = [x for x in segmentation_filenames if 'label' not in x.name]\n",
    "\n",
    "            inphase_filenames = list(custom_folder.glob('in*.gz'))\n",
    "            outphase_filenames = list(custom_folder.glob('out*.gz'))\n",
    "\n",
    "            for filename in segmentation_filenames[:1]:  \n",
    "                segmentation_files.append(filename)\n",
    "\n",
    "            for filename in inphase_filenames:\n",
    "                inphase_files.append(filename)\n",
    "\n",
    "            for filename in outphase_filenames: \n",
    "                outphase_files.append(filename)   \n",
    "\n",
    "                \n",
    "for seg_file in segmentation_files:\n",
    "    print(seg_file)\n",
    "print(f\"\\nTotal number of segmentation files found: {len(segmentation_files)}\") # 74\n",
    "\n",
    "for in_file in inphase_files:\n",
    "    print(in_file)\n",
    "print(f\"\\nTotal number of in phase files found: {len(inphase_files)}\")\n",
    "\n",
    "for out_file in outphase_files:\n",
    "    print(out_file)\n",
    "print(f\"\\nTotal number of in phase files found: {len(outphase_files)}\")"
   ]
  },
  {
   "cell_type": "code",
   "execution_count": null,
   "id": "ca6b36e0",
   "metadata": {},
   "outputs": [],
   "source": [
    "segmentation_files_sorted = sorted(\n",
    "    segmentation_files,\n",
    "    key=lambda x: (\n",
    "        x.parts[-3],\n",
    "        x.parts[-2]\n",
    "    )\n",
    ")\n",
    "print(\"\\nSorted segmentation files:\")\n",
    "for seg_file in segmentation_files_sorted:\n",
    "    print(seg_file)\n",
    "\n",
    "    \n",
    "outphase_files_sorted = sorted(\n",
    "    outphase_files,\n",
    "    key=lambda x: (\n",
    "        x.parts[-3],\n",
    "        x.parts[-2]\n",
    "    )\n",
    ")\n",
    "print(\"\\nSorted outphase files:\")\n",
    "for outphase_file in outphase_files_sorted:\n",
    "    print(outphase_file)\n",
    "    \n",
    "    \n",
    "inphase_files_sorted = sorted(\n",
    "    inphase_files,\n",
    "    key=lambda x: (\n",
    "        x.parts[-3],\n",
    "        x.parts[-2]\n",
    "    )\n",
    ")\n",
    "print(\"\\nSorted inphase files:\")\n",
    "for inphase_file in inphase_files_sorted:\n",
    "    print(inphase_file)"
   ]
  },
  {
   "cell_type": "code",
   "execution_count": 25,
   "id": "319182cd",
   "metadata": {},
   "outputs": [],
   "source": [
    "extractor = featureextractor.RadiomicsFeatureExtractor()\n",
    "\n",
    "radiomic_features = []\n",
    "\n",
    "def generate_largest_segmentation_image(segment_file, outphase_file, inphase_file, save_path):\n",
    "    patient_id = os.path.normpath(segment_file).split(os.sep)[4]\n",
    "    \n",
    "    patient_folder = os.path.join(save_path, patient_id)\n",
    "    os.makedirs(patient_folder, exist_ok=True)\n",
    "\n",
    "    segmentation = sitk.ReadImage(segment_file)\n",
    "    segmentation_array = sitk.GetArrayFromImage(segmentation)  # Shape: [z, y, x]\n",
    "\n",
    "    outphase = sitk.ReadImage(outphase_file)\n",
    "    outphase_array = sitk.GetArrayFromImage(outphase)\n",
    "\n",
    "    inphase = sitk.ReadImage(inphase_file)\n",
    "    inphase_array = sitk.GetArrayFromImage(inphase)\n",
    "\n",
    "    if segmentation_array.shape[1:] != inphase_array.shape[1:]:\n",
    "        print(f\"Skipping PID: {patient_id} due to mismatched dimensions.\")\n",
    "        return\n",
    "    if segmentation_array.shape[1:] != outphase_array.shape[1:]:\n",
    "        print(f\"Skipping PID: {patient_id} due to mismatched dimensions.\")\n",
    "        return\n",
    "\n",
    "    slice_areas = [np.count_nonzero(segmentation_array[z]) for z in range(segmentation_array.shape[0])]\n",
    "    largest_slice_index = np.argmax(slice_areas)\n",
    "\n",
    "    segmentation_slice = segmentation_array[largest_slice_index]\n",
    "    outphase_slice = outphase_array[largest_slice_index]\n",
    "    inphase_slice = inphase_array[largest_slice_index]\n",
    "    \n",
    "\n",
    "    segmentation_slice = (segmentation_slice > 0).astype(np.uint8)  \n",
    "\n",
    "    inphase_sitk = sitk.GetImageFromArray(inphase_slice)\n",
    "    outphase_sitk = sitk.GetImageFromArray(outphase_slice)\n",
    "    segmentation_sitk = sitk.GetImageFromArray(segmentation_slice)\n",
    "\n",
    "    npz_output_path = os.path.join(patient_folder, f\"{patient_id}_largest_slice_data.npz\")\n",
    "    np.savez(npz_output_path, \n",
    "             inphase=inphase_slice, \n",
    "             outphase=outphase_slice, \n",
    "             segmentation=segmentation_slice)\n",
    "\n",
    "    print(f\"Saved data at {npz_output_path}\")\n",
    "\n",
    "    result = extractor.execute(inphase_sitk, segmentation_sitk)\n",
    "\n",
    "    filtered_result = {key: value for key, value in result.items() if \"diagnostics\" not in key}\n",
    "    radiomic_features.append({\"PatientID\": patient_id, **filtered_result})\n",
    "    "
   ]
  },
  {
   "cell_type": "code",
   "execution_count": null,
   "id": "3b28ff31",
   "metadata": {},
   "outputs": [],
   "source": [
    "# # Load a saved patient's npz file\n",
    "patient_id = \"CAPS20\" \n",
    "npz_path = f\"/projects/pancreas-cancer-hpc/MRI-texture-results-YG/{patient_id}/{patient_id}_largest_slice_data.npz\"\n",
    "\n",
    "# Load the file\n",
    "data = np.load(npz_path)\n",
    "\n",
    "# Access individual images\n",
    "inphase_image = data[\"inphase\"]\n",
    "outphase_image = data[\"outphase\"]\n",
    "segmentation_mask = data[\"segmentation\"]\n",
    "\n",
    "print(\"In-phase image shape:\", inphase_image.shape)\n",
    "print(\"Out-phase image shape:\", outphase_image.shape)\n",
    "print(\"Segmentation mask shape:\", segmentation_mask.shape)"
   ]
  },
  {
   "cell_type": "markdown",
   "id": "5313fc42",
   "metadata": {},
   "source": [
    "### inphase "
   ]
  },
  {
   "cell_type": "code",
   "execution_count": null,
   "id": "36618ff4",
   "metadata": {
    "scrolled": true
   },
   "outputs": [],
   "source": [
    "for seg_file, out_file, in_file in zip(segmentation_files_sorted, outphase_files_sorted, inphase_files_sorted):\n",
    "    #print(f\"Processing: {seg_file}, {out_file}, {in_file}\")\n",
    "    generate_largest_segmentation_image(seg_file, out_file, in_file, save_path)\n",
    "    \n",
    "\n",
    "# Convert the radiomic features to a DataFrame and save to Excel\n",
    "radiomic_features_df = pd.DataFrame(radiomic_features)\n",
    "radiomic_features_df"
   ]
  },
  {
   "cell_type": "code",
   "execution_count": null,
   "id": "88a532e2",
   "metadata": {},
   "outputs": [],
   "source": [
    "radiomic_features_df"
   ]
  },
  {
   "cell_type": "code",
   "execution_count": null,
   "id": "26f0b759",
   "metadata": {},
   "outputs": [],
   "source": [
    "radiomic_features_df['PatientID'].unique()\n",
    "# radiomic_features_df['PatientID'].nunique()"
   ]
  },
  {
   "cell_type": "code",
   "execution_count": null,
   "id": "8cfcbcfb",
   "metadata": {},
   "outputs": [],
   "source": [
    "radiomic_features_df = radiomic_features_df[\n",
    "    radiomic_features_df.columns.drop(list(radiomic_features_df.filter(regex='diagnostics')))\n",
    "]\n",
    "radiomic_features_df = radiomic_features_df[\n",
    "    radiomic_features_df.columns.drop(list(radiomic_features_df.filter(regex='firstorder')))\n",
    "]\n",
    "radiomic_features_df = radiomic_features_df.sort_index()\n",
    "radiomic_features_df"
   ]
  },
  {
   "cell_type": "code",
   "execution_count": 17,
   "id": "9585f25a",
   "metadata": {},
   "outputs": [],
   "source": [
    "file_path = os.path.join(save_path, 'original_features_largest_slices_inphase.xlsx')\n",
    "radiomic_features_df.to_excel(file_path, index=False)"
   ]
  },
  {
   "cell_type": "markdown",
   "id": "036f41ea",
   "metadata": {},
   "source": [
    "### outphase"
   ]
  },
  {
   "cell_type": "code",
   "execution_count": 7,
   "id": "764a5059",
   "metadata": {},
   "outputs": [],
   "source": [
    "extractor = featureextractor.RadiomicsFeatureExtractor()\n",
    "\n",
    "radiomic_features = []\n",
    "\n",
    "\n",
    "def generate_largest_segmentation_image(segment_file, outphase_file, inphase_file):\n",
    "    patient_id = os.path.normpath(segment_file).split(os.sep)[4]\n",
    "    \n",
    "    patient_folder = os.path.join(save_path, patient_id)\n",
    "    os.makedirs(patient_folder, exist_ok=True)\n",
    "    \n",
    "    segmentation = sitk.ReadImage(segment_file)\n",
    "    segmentation_array = sitk.GetArrayFromImage(segmentation)  # Shape: [z, y, x]\n",
    "\n",
    "    outphase = sitk.ReadImage(outphase_file)\n",
    "    outphase_array = sitk.GetArrayFromImage(outphase)\n",
    "\n",
    "    inphase = sitk.ReadImage(inphase_file)\n",
    "    inphase_array = sitk.GetArrayFromImage(inphase)\n",
    "\n",
    "    if segmentation_array.shape[1:] != inphase_array.shape[1:]:\n",
    "        print(f\"Skipping PID: {patient_id} due to mismatched dimensions.\")\n",
    "        return \n",
    "\n",
    "    slice_areas = [np.count_nonzero(segmentation_array[z]) for z in range(segmentation_array.shape[0])]\n",
    "    largest_slice_index = np.argmax(slice_areas)\n",
    "\n",
    "    segmentation_slice = segmentation_array[largest_slice_index]\n",
    "    outphase_slice = outphase_array[largest_slice_index]\n",
    "    inphase_slice = inphase_array[largest_slice_index]\n",
    "\n",
    "    inphase_slice = inphase_array[largest_slice_index, :, :]  \n",
    "    outphase_slice = outphase_array[largest_slice_index, :, :]\n",
    "    segmentation_slice = segmentation_array[largest_slice_index, :, :]  \n",
    "    segmentation_slice = (segmentation_slice > 0).astype(np.uint8) \n",
    "    inphase_sitk = sitk.GetImageFromArray(inphase_slice)\n",
    "    outphase_sitk = sitk.GetImageFromArray(outphase_slice)\n",
    "    segmentation_sitk = sitk.GetImageFromArray(segmentation_slice)\n",
    "\n",
    "    result = extractor.execute(outphase_sitk, segmentation_sitk)\n",
    "    filtered_result = {key: value for key, value in result.items() if \"diagnostics\" not in key}\n",
    "    radiomic_features.append({\"PatientID\": patient_id, **filtered_result})"
   ]
  },
  {
   "cell_type": "code",
   "execution_count": null,
   "id": "9d45b0af",
   "metadata": {},
   "outputs": [],
   "source": [
    "for seg_file, out_file, in_file in zip(segmentation_files_sorted, outphase_files_sorted, inphase_files_sorted):\n",
    "    generate_largest_segmentation_image(seg_file, out_file, in_file)\n",
    "radiomic_features_df = pd.DataFrame(radiomic_features)"
   ]
  },
  {
   "cell_type": "code",
   "execution_count": null,
   "id": "96eb39d2",
   "metadata": {},
   "outputs": [],
   "source": [
    "radiomic_features_df = radiomic_features_df[\n",
    "    radiomic_features_df.columns.drop(list(radiomic_features_df.filter(regex='diagnostics')))\n",
    "]\n",
    "radiomic_features_df = radiomic_features_df[\n",
    "    radiomic_features_df.columns.drop(list(radiomic_features_df.filter(regex='firstorder')))\n",
    "]\n",
    "radiomic_features_df = radiomic_features_df.sort_index()\n",
    "radiomic_features_df\n",
    "radiomic_features_df.to_excel(save_path, index=False)"
   ]
  }
 ],
 "metadata": {
  "kernelspec": {
   "display_name": "Python 3 (ipykernel)",
   "language": "python",
   "name": "python3"
  },
  "language_info": {
   "codemirror_mode": {
    "name": "ipython",
    "version": 3
   },
   "file_extension": ".py",
   "mimetype": "text/x-python",
   "name": "python",
   "nbconvert_exporter": "python",
   "pygments_lexer": "ipython3",
   "version": "3.11.5"
  }
 },
 "nbformat": 4,
 "nbformat_minor": 5
}
